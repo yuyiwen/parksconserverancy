{
 "cells": [
  {
   "cell_type": "code",
   "execution_count": 24,
   "metadata": {
    "collapsed": true
   },
   "outputs": [],
   "source": [
    "import pandas as pd"
   ]
  },
  {
   "cell_type": "code",
   "execution_count": 146,
   "metadata": {
    "collapsed": false
   },
   "outputs": [],
   "source": [
    "df = pd.read_csv('~/usr_python/bin/cleaned_landsend_veg_2007_2012.csv')"
   ]
  },
  {
   "cell_type": "code",
   "execution_count": 147,
   "metadata": {
    "collapsed": false,
    "scrolled": true
   },
   "outputs": [
    {
     "data": {
      "text/html": [
       "<div>\n",
       "<table border=\"1\" class=\"dataframe\">\n",
       "  <thead>\n",
       "    <tr style=\"text-align: right;\">\n",
       "      <th></th>\n",
       "      <th>site_year_code</th>\n",
       "      <th>transect</th>\n",
       "      <th>point</th>\n",
       "      <th>height</th>\n",
       "      <th>species</th>\n",
       "      <th>native_status</th>\n",
       "      <th>life_history</th>\n",
       "      <th>plant_code</th>\n",
       "      <th>stature</th>\n",
       "    </tr>\n",
       "  </thead>\n",
       "  <tbody>\n",
       "    <tr>\n",
       "      <th>0</th>\n",
       "      <td>NUWO-2012</td>\n",
       "      <td>5</td>\n",
       "      <td>90</td>\n",
       "      <td>Low</td>\n",
       "      <td>NaN</td>\n",
       "      <td>NaN</td>\n",
       "      <td>NaN</td>\n",
       "      <td>NaN</td>\n",
       "      <td>NaN</td>\n",
       "    </tr>\n",
       "    <tr>\n",
       "      <th>1</th>\n",
       "      <td>NUWO-2012</td>\n",
       "      <td>13</td>\n",
       "      <td>150</td>\n",
       "      <td>Low</td>\n",
       "      <td>NaN</td>\n",
       "      <td>NaN</td>\n",
       "      <td>NaN</td>\n",
       "      <td>NaN</td>\n",
       "      <td>NaN</td>\n",
       "    </tr>\n",
       "    <tr>\n",
       "      <th>2</th>\n",
       "      <td>NMS-2010</td>\n",
       "      <td>8</td>\n",
       "      <td>20</td>\n",
       "      <td>Low</td>\n",
       "      <td>Achillea millefolium</td>\n",
       "      <td>Native</td>\n",
       "      <td>Perennial</td>\n",
       "      <td>ACMI</td>\n",
       "      <td>Forb</td>\n",
       "    </tr>\n",
       "    <tr>\n",
       "      <th>3</th>\n",
       "      <td>NMS-2010</td>\n",
       "      <td>24</td>\n",
       "      <td>4</td>\n",
       "      <td>Low</td>\n",
       "      <td>Achillea millefolium</td>\n",
       "      <td>Native</td>\n",
       "      <td>Perennial</td>\n",
       "      <td>ACMI</td>\n",
       "      <td>Forb</td>\n",
       "    </tr>\n",
       "    <tr>\n",
       "      <th>4</th>\n",
       "      <td>NMS-2010</td>\n",
       "      <td>48</td>\n",
       "      <td>16</td>\n",
       "      <td>Low</td>\n",
       "      <td>Achillea millefolium</td>\n",
       "      <td>Native</td>\n",
       "      <td>Perennial</td>\n",
       "      <td>ACMI</td>\n",
       "      <td>Forb</td>\n",
       "    </tr>\n",
       "  </tbody>\n",
       "</table>\n",
       "</div>"
      ],
      "text/plain": [
       "  site_year_code  transect  point height                species native_status  \\\n",
       "0      NUWO-2012         5     90     Low                   NaN           NaN   \n",
       "1      NUWO-2012        13    150     Low                   NaN           NaN   \n",
       "2       NMS-2010         8     20     Low  Achillea millefolium        Native   \n",
       "3       NMS-2010        24      4     Low  Achillea millefolium        Native   \n",
       "4       NMS-2010        48     16     Low  Achillea millefolium        Native   \n",
       "\n",
       "  life_history plant_code stature  \n",
       "0          NaN        NaN     NaN  \n",
       "1          NaN        NaN     NaN  \n",
       "2    Perennial       ACMI    Forb  \n",
       "3    Perennial       ACMI    Forb  \n",
       "4    Perennial       ACMI    Forb  "
      ]
     },
     "execution_count": 147,
     "metadata": {},
     "output_type": "execute_result"
    }
   ],
   "source": [
    "df.head()"
   ]
  },
  {
   "cell_type": "code",
   "execution_count": 148,
   "metadata": {
    "collapsed": false
   },
   "outputs": [],
   "source": [
    "df_yr_sp = df[[\"site_year_code\", \"stature\",\"species\"]]\n",
    "valid = ~ df_yr_sp.applymap( lambda x: x == \"-\").any(axis=1)\n",
    "df_yr_sp = df_yr_sp.loc[valid]"
   ]
  },
  {
   "cell_type": "code",
   "execution_count": 149,
   "metadata": {
    "collapsed": false
   },
   "outputs": [],
   "source": [
    "get_year = lambda x : int(x.split(\"-\")[-1])\n",
    "df_yr_sp[\"year\"] = df_yr_sp[\"site_year_code\"].map( get_year )\n",
    "\n",
    "get_site = lambda x : (x.split(\"-\")[0])\n",
    "df_yr_sp[\"site\"] = df_yr_sp[\"site_year_code\"].map( get_site )\n",
    "\n",
    "df_yr_sp.drop(\"site_year_code\", axis=1, inplace = True)"
   ]
  },
  {
   "cell_type": "code",
   "execution_count": 150,
   "metadata": {
    "collapsed": false
   },
   "outputs": [
    {
     "data": {
      "text/html": [
       "<div>\n",
       "<table border=\"1\" class=\"dataframe\">\n",
       "  <thead>\n",
       "    <tr>\n",
       "      <th>site</th>\n",
       "      <th>EAPO</th>\n",
       "      <th colspan=\"3\" halign=\"left\">NMS</th>\n",
       "      <th colspan=\"3\" halign=\"left\">NUWO</th>\n",
       "      <th colspan=\"5\" halign=\"left\">SUDO</th>\n",
       "      <th colspan=\"2\" halign=\"left\">SUDU</th>\n",
       "    </tr>\n",
       "    <tr>\n",
       "      <th>year</th>\n",
       "      <th>2011</th>\n",
       "      <th>2010</th>\n",
       "      <th>2011</th>\n",
       "      <th>2012</th>\n",
       "      <th>2010</th>\n",
       "      <th>2011</th>\n",
       "      <th>2012</th>\n",
       "      <th>2010</th>\n",
       "      <th>2011</th>\n",
       "      <th>2012</th>\n",
       "      <th>2013</th>\n",
       "      <th>2014</th>\n",
       "      <th>2008</th>\n",
       "      <th>2009</th>\n",
       "    </tr>\n",
       "    <tr>\n",
       "      <th>stature</th>\n",
       "      <th></th>\n",
       "      <th></th>\n",
       "      <th></th>\n",
       "      <th></th>\n",
       "      <th></th>\n",
       "      <th></th>\n",
       "      <th></th>\n",
       "      <th></th>\n",
       "      <th></th>\n",
       "      <th></th>\n",
       "      <th></th>\n",
       "      <th></th>\n",
       "      <th></th>\n",
       "      <th></th>\n",
       "    </tr>\n",
       "  </thead>\n",
       "  <tbody>\n",
       "    <tr>\n",
       "      <th>Forb</th>\n",
       "      <td>41</td>\n",
       "      <td>82</td>\n",
       "      <td>39</td>\n",
       "      <td>109</td>\n",
       "      <td>33</td>\n",
       "      <td>25</td>\n",
       "      <td>41</td>\n",
       "      <td>92</td>\n",
       "      <td>42</td>\n",
       "      <td>44</td>\n",
       "      <td>2</td>\n",
       "      <td>0</td>\n",
       "      <td>57</td>\n",
       "      <td>110</td>\n",
       "    </tr>\n",
       "    <tr>\n",
       "      <th>Grass</th>\n",
       "      <td>108</td>\n",
       "      <td>78</td>\n",
       "      <td>63</td>\n",
       "      <td>97</td>\n",
       "      <td>166</td>\n",
       "      <td>41</td>\n",
       "      <td>175</td>\n",
       "      <td>31</td>\n",
       "      <td>35</td>\n",
       "      <td>4</td>\n",
       "      <td>0</td>\n",
       "      <td>0</td>\n",
       "      <td>19</td>\n",
       "      <td>53</td>\n",
       "    </tr>\n",
       "    <tr>\n",
       "      <th>Rush/Sedge</th>\n",
       "      <td>0</td>\n",
       "      <td>0</td>\n",
       "      <td>0</td>\n",
       "      <td>0</td>\n",
       "      <td>0</td>\n",
       "      <td>0</td>\n",
       "      <td>0</td>\n",
       "      <td>1</td>\n",
       "      <td>0</td>\n",
       "      <td>0</td>\n",
       "      <td>0</td>\n",
       "      <td>0</td>\n",
       "      <td>0</td>\n",
       "      <td>0</td>\n",
       "    </tr>\n",
       "    <tr>\n",
       "      <th>Shrub</th>\n",
       "      <td>160</td>\n",
       "      <td>28</td>\n",
       "      <td>12</td>\n",
       "      <td>63</td>\n",
       "      <td>22</td>\n",
       "      <td>10</td>\n",
       "      <td>20</td>\n",
       "      <td>73</td>\n",
       "      <td>59</td>\n",
       "      <td>82</td>\n",
       "      <td>2</td>\n",
       "      <td>1</td>\n",
       "      <td>115</td>\n",
       "      <td>143</td>\n",
       "    </tr>\n",
       "    <tr>\n",
       "      <th>Tree</th>\n",
       "      <td>0</td>\n",
       "      <td>6</td>\n",
       "      <td>2</td>\n",
       "      <td>0</td>\n",
       "      <td>57</td>\n",
       "      <td>0</td>\n",
       "      <td>61</td>\n",
       "      <td>1</td>\n",
       "      <td>0</td>\n",
       "      <td>1</td>\n",
       "      <td>0</td>\n",
       "      <td>0</td>\n",
       "      <td>0</td>\n",
       "      <td>1</td>\n",
       "    </tr>\n",
       "  </tbody>\n",
       "</table>\n",
       "</div>"
      ],
      "text/plain": [
       "site       EAPO  NMS           NUWO           SUDO                     SUDU  \\\n",
       "year       2011 2010 2011 2012 2010 2011 2012 2010 2011 2012 2013 2014 2008   \n",
       "stature                                                                       \n",
       "Forb         41   82   39  109   33   25   41   92   42   44    2    0   57   \n",
       "Grass       108   78   63   97  166   41  175   31   35    4    0    0   19   \n",
       "Rush/Sedge    0    0    0    0    0    0    0    1    0    0    0    0    0   \n",
       "Shrub       160   28   12   63   22   10   20   73   59   82    2    1  115   \n",
       "Tree          0    6    2    0   57    0   61    1    0    1    0    0    0   \n",
       "\n",
       "site             \n",
       "year       2009  \n",
       "stature          \n",
       "Forb        110  \n",
       "Grass        53  \n",
       "Rush/Sedge    0  \n",
       "Shrub       143  \n",
       "Tree          1  "
      ]
     },
     "execution_count": 150,
     "metadata": {},
     "output_type": "execute_result"
    }
   ],
   "source": [
    "cols = [\"stature\",\"site\", \"year\"]\n",
    "df_yr_sp[\"count\"] = 1\n",
    "\n",
    "stature_site_yr = pd.pivot_table(\n",
    "    df_yr_sp.groupby(cols).agg(\"count\").reset_index().\\\n",
    "    drop(\"species\", axis = 1).groupby([\"stature\",\"site\",\"year\"]).\\\n",
    "    agg(sum).reset_index(), index = \"stature\", columns = [\"site\",\"year\"]).fillna(0)[\"count\"]\n",
    "stature_site_yr.head()"
   ]
  },
  {
   "cell_type": "code",
   "execution_count": 151,
   "metadata": {
    "collapsed": false
   },
   "outputs": [
    {
     "data": {
      "text/html": [
       "<div>\n",
       "<table border=\"1\" class=\"dataframe\">\n",
       "  <thead>\n",
       "    <tr style=\"text-align: right;\">\n",
       "      <th>year</th>\n",
       "      <th>2008</th>\n",
       "      <th>2009</th>\n",
       "    </tr>\n",
       "    <tr>\n",
       "      <th>stature</th>\n",
       "      <th></th>\n",
       "      <th></th>\n",
       "    </tr>\n",
       "  </thead>\n",
       "  <tbody>\n",
       "    <tr>\n",
       "      <th>Forb</th>\n",
       "      <td>57</td>\n",
       "      <td>110</td>\n",
       "    </tr>\n",
       "    <tr>\n",
       "      <th>Grass</th>\n",
       "      <td>19</td>\n",
       "      <td>53</td>\n",
       "    </tr>\n",
       "    <tr>\n",
       "      <th>Rush/Sedge</th>\n",
       "      <td>0</td>\n",
       "      <td>0</td>\n",
       "    </tr>\n",
       "    <tr>\n",
       "      <th>Shrub</th>\n",
       "      <td>115</td>\n",
       "      <td>143</td>\n",
       "    </tr>\n",
       "    <tr>\n",
       "      <th>Tree</th>\n",
       "      <td>0</td>\n",
       "      <td>1</td>\n",
       "    </tr>\n",
       "  </tbody>\n",
       "</table>\n",
       "</div>"
      ],
      "text/plain": [
       "year        2008  2009\n",
       "stature               \n",
       "Forb          57   110\n",
       "Grass         19    53\n",
       "Rush/Sedge     0     0\n",
       "Shrub        115   143\n",
       "Tree           0     1"
      ]
     },
     "execution_count": 151,
     "metadata": {},
     "output_type": "execute_result"
    }
   ],
   "source": [
    "stature_site_yr[\"SUDU\"]"
   ]
  },
  {
   "cell_type": "code",
   "execution_count": 153,
   "metadata": {
    "collapsed": false
   },
   "outputs": [],
   "source": [
    "import matplotlib.pyplot as plt\n",
    "%matplotlib inline"
   ]
  },
  {
   "cell_type": "markdown",
   "metadata": {},
   "source": [
    "--------------Stature Diversity Across Years For each Site--------------"
   ]
  },
  {
   "cell_type": "code",
   "execution_count": 170,
   "metadata": {
    "collapsed": false
   },
   "outputs": [
    {
     "data": {
      "image/png": "[encoded data removed]",
      "text/plain": [
       "<matplotlib.figure.Figure at 0x4cd7650>"
      ]
     },
     "metadata": {},
     "output_type": "display_data"
    }
   ],
   "source": [
    "sudu_site = stature_site_yr[\"SUDU\"]\n",
    "x = sudu_site.columns.tolist()\n",
    "fig, ax = plt.subplots()\n",
    "ax.stackplot(x, sudu_site.as_matrix(), edgecolor=\"None\")\n",
    "plt.xticks(range(2008, 2014))\n",
    "x_formatter = plt.matplotlib.ticker.ScalarFormatter(useOffset=False)\n",
    "plt.gca().xaxis.set_major_formatter(x_formatter)\n",
    "plt.xlim((2008, 2012))\n",
    "pass"
   ]
  },
  {
   "cell_type": "code",
   "execution_count": 166,
   "metadata": {
    "collapsed": false
   },
   "outputs": [
    {
     "data": {
      "image/png": "[encoded data removed]",
      "text/plain": [
       "<matplotlib.figure.Figure at 0x5086b90>"
      ]
     },
     "metadata": {},
     "output_type": "display_data"
    }
   ],
   "source": [
    "sudo_site = stature_site_yr[\"SUDO\"]\n",
    "x = sudo_site.columns.tolist()\n",
    "fig, ax = plt.subplots()\n",
    "ax.stackplot(x, sudo_site.as_matrix(), edgecolor=\"None\")\n",
    "plt.xticks(range(2010, 2014))\n",
    "x_formatter = plt.matplotlib.ticker.ScalarFormatter(useOffset=False)\n",
    "plt.gca().xaxis.set_major_formatter(x_formatter)\n",
    "plt.xlim((2010, 2012))\n",
    "pass"
   ]
  },
  {
   "cell_type": "code",
   "execution_count": 165,
   "metadata": {
    "collapsed": false
   },
   "outputs": [
    {
     "data": {
      "image/png": "[encoded data removed]",
      "text/plain": [
       "<matplotlib.figure.Figure at 0xa8feb50>"
      ]
     },
     "metadata": {},
     "output_type": "display_data"
    }
   ],
   "source": [
    "nuwo_site = stature_site_yr[\"NUWO\"]\n",
    "x = nuwo_site.columns.tolist()\n",
    "fig, ax = plt.subplots()\n",
    "ax.stackplot(x, nuwo_site.as_matrix(), edgecolor=\"None\")\n",
    "plt.xticks(range(2010, 2014))\n",
    "x_formatter = plt.matplotlib.ticker.ScalarFormatter(useOffset=False)\n",
    "plt.gca().xaxis.set_major_formatter(x_formatter)\n",
    "plt.xlim((2010, 2012))\n",
    "pass"
   ]
  },
  {
   "cell_type": "code",
   "execution_count": 164,
   "metadata": {
    "collapsed": false
   },
   "outputs": [
    {
     "data": {
      "image/png": "[encoded data removed]",
      "text/plain": [
       "<matplotlib.figure.Figure at 0x5a2f110>"
      ]
     },
     "metadata": {},
     "output_type": "display_data"
    }
   ],
   "source": [
    "nms_site = stature_site_yr[\"NMS\"]\n",
    "x = nms_site.columns.tolist()\n",
    "fig, ax = plt.subplots()\n",
    "ax.stackplot(x, nms_site.as_matrix(), edgecolor=\"None\")\n",
    "plt.xticks(range(2010, 2014))\n",
    "x_formatter = plt.matplotlib.ticker.ScalarFormatter(useOffset=False)\n",
    "plt.gca().xaxis.set_major_formatter(x_formatter)\n",
    "plt.xlim((2010, 2012))\n",
    "pass"
   ]
  }
 ],
 "metadata": {
  "kernelspec": {
   "display_name": "Python 2",
   "language": "python",
   "name": "python2"
  },
  "language_info": {
   "codemirror_mode": {
    "name": "ipython",
    "version": 2
   },
   "file_extension": ".py",
   "mimetype": "text/x-python",
   "name": "python",
   "nbconvert_exporter": "python",
   "pygments_lexer": "ipython2",
   "version": "2.7.2"
  }
 },
 "nbformat": 4,
 "nbformat_minor": 0
}
