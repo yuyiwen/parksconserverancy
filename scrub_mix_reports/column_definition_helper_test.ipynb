{
 "cells": [
  {
   "cell_type": "code",
   "execution_count": 1,
   "metadata": {
    "collapsed": true
   },
   "outputs": [],
   "source": [
    "%matplotlib inline\n",
    "import matplotlib.pyplot as plt\n",
    "import pandas as pd\n",
    "import numpy as np\n",
    "from pprint import pprint"
   ]
  },
  {
   "cell_type": "code",
   "execution_count": 2,
   "metadata": {
    "collapsed": false
   },
   "outputs": [
    {
     "name": "stdout",
     "output_type": "stream",
     "text": [
      "(3592, 9)\n"
     ]
    }
   ],
   "source": [
    "df = pd.read_csv('./landsend_veg_2007_2012.csv')\n",
    "print df.shape"
   ]
  },
  {
   "cell_type": "markdown",
   "metadata": {},
   "source": [
    "### Helpful synopsis data\n",
    "1. \tRelative cover by hit type (bare ground, litter, native plant cover, exotic plant cover)\n",
    "2. \tRelative cover vegetation by guild. Guilds are a combination of nativity, life history (annual, perennial), and stature (forb, grass, rush/sedge, shrub, tree).\n",
    "3. \tRelative cover of veg by stature (size class)\n",
    "4. \tRelative cover of veg by life history (annual, perennial, biennial, etc.)\n",
    "5. \tRelative cover of height category\n",
    "6. \tRelative cover by all species, just native species, just exotic species\n",
    "\n",
    "### columns:\n",
    "\n",
    "**Site-YearCode, Transect, Point, Height , Species, Plant code, Native Status, Life History, Stature**\n",
    "\n",
    "\n",
    "#### Site-Year Code\n",
    "Four letter shortening of the full site name using the first two letters of the first word and first two letters of the second word. If the site has more than two words in the name, initials  are used (e.g. Sutro Dunes = SUDO, Navy Memorial Slope = NMS). The year the observations were made is attached to the site name (e.g. all observations taken in 2012 will have xxxx-2012 as a name).\n",
    "\n",
    "#### Transect Number \n",
    "The discrete line along which observations are made. In this study this could be any number between zero and infinity, but should be sequential and at regular intervals.\n",
    "\n",
    "#### Point Number\n",
    "Discrete locations along the transect at predetermined intervals where observations are made. In this case a dowel rod is dropped perpendicular to the tape and parallel to a standing person to the ground. In this study this could be any number between zero and infinity, though the numbers should be sequential and at regular intervals.\n",
    "\n",
    "#### Height\n",
    "Distance from the ground where plants cross the point on the transect. In this study, height classes were used: \n",
    "Low = 0 to 0.5 meters \n",
    "Medium = 0.51 to 2.0 meters \n",
    "High = 2.1 to 15 meters \n",
    "S (for super high) = 15+ meters\n",
    "\n",
    "#### Scientific Name\n",
    "The Latin genus and species assigned to the plant based on the Jepson Manual of California (1993 version, it has since been updated with new names in 2012).  The Jepson can be accessed online at ucjeps.berkeley.edu or on CalFlora at www.calflora.org\n",
    "\n",
    "#### Plant Code\n",
    "Four letter shortening of the plant name based on the first two letters of the genus and first two letters of the species. If duplicates exist at a site, USDA plants (plants.usda.gov) will be consulted on the number to be added to the end (e.g. TRLA16 is Triteleia laxa, TRLA3 is Trichostemma lanatum).\n",
    "\n",
    "#### Native Status\n",
    "Whether the plant is considered native or exotic as defined by the Jepson Manual of California (1993).\n",
    "\n",
    "\n",
    "#### Life History\n",
    "Describes whether the plant is an annual or perennial plant. If “shrub” is listed, this should be replaced with “perennial.” If “biennial” is listed, it should be replaced with “annual.”\n",
    "\n",
    "#### Stature\n",
    "In other studies this grouping has been called “guild.” In this study the choices are forb*, grass, rush/sedge, shrub, or tree. *A forb is a soft-bodied plant that does not make a woody stem.\n",
    "\n",
    "#### Common name\n",
    "The colloquial name for a plant, separate from its Latin name.\n",
    "\n",
    "#### Dune\n",
    "This was added by surveyors as another subdivider to the Sutro Dunes. This category can be disregarded.\n",
    "\n",
    "#### Data Recorder\n",
    "The person recording the data. Recorded so questions about the point could be addressed to the person who wrote down the data.\n",
    "\n",
    "#### Reader\n",
    "The person who “read” the plants on the line (i.e. what plants were touching the dowel at the point). Recorded so questions about the point could be addressed to the person who observed the plants.\n",
    "\n"
   ]
  },
  {
   "cell_type": "code",
   "execution_count": 3,
   "metadata": {
    "collapsed": false
   },
   "outputs": [
    {
     "name": "stdout",
     "output_type": "stream",
     "text": [
      "Site-YearCode, Transect, Point, Height , Species, Plant code, Native Status, Life History, Stature\n"
     ]
    }
   ],
   "source": [
    "colstr = ', '.join(list(df.columns.values))\n",
    "print colstr"
   ]
  },
  {
   "cell_type": "code",
   "execution_count": 4,
   "metadata": {
    "collapsed": false
   },
   "outputs": [
    {
     "name": "stdout",
     "output_type": "stream",
     "text": [
      "Site-YearCode                  14\n",
      "Transect                       50\n",
      "Point                          131\n",
      "Height                         9\n",
      "Species                        172\n",
      "Plant code                     119\n",
      "Native Status                  5\n",
      "Life History                   4\n",
      "Stature                        7\n"
     ]
    }
   ],
   "source": [
    "for col in df.columns:\n",
    "    print '%-30s %d' % (col, len(df[col].unique()))"
   ]
  },
  {
   "cell_type": "code",
   "execution_count": 5,
   "metadata": {
    "collapsed": false
   },
   "outputs": [
    {
     "name": "stdout",
     "output_type": "stream",
     "text": [
      "['EAPO-2011',\n",
      " 'NMS-2010',\n",
      " 'NMS-2011',\n",
      " 'NMS-2012',\n",
      " 'NUWO-2010',\n",
      " 'NUWO-2011',\n",
      " 'NUWO-2012',\n",
      " 'SUDO-2010',\n",
      " 'SUDO-2011',\n",
      " 'SUDO-2012',\n",
      " 'SUDO-2013',\n",
      " 'SUDO-2014',\n",
      " 'SUDU-2008',\n",
      " 'SUDU-2009']\n"
     ]
    }
   ],
   "source": [
    "pprint(sorted(list(df['Site-YearCode'].unique())))"
   ]
  },
  {
   "cell_type": "code",
   "execution_count": 6,
   "metadata": {
    "collapsed": false
   },
   "outputs": [
    {
     "name": "stdout",
     "output_type": "stream",
     "text": [
      "total rows: 3592\n",
      "\n",
      "# null values: \n",
      "Site-YearCode       0\n",
      "Transect            0\n",
      "Point               1\n",
      "Height              0\n",
      "Species             0\n",
      "Plant code       1019\n",
      "Native Status    1621\n",
      "Life History     1791\n",
      "Stature          1791\n",
      "dtype: int64\n",
      "\n",
      "% null values:\n",
      "Site-YearCode     0.000000\n",
      "Transect          0.000000\n",
      "Point             0.027840\n",
      "Height            0.000000\n",
      "Species           0.000000\n",
      "Plant code       28.368597\n",
      "Native Status    45.128062\n",
      "Life History     49.860802\n",
      "Stature          49.860802\n",
      "dtype: float64\n"
     ]
    }
   ],
   "source": [
    "print 'total rows:', len(df)\n",
    "print '\\n# null values: '\n",
    "print df.isnull().sum()\n",
    "print '\\n% null values:'\n",
    "print df.isnull().sum()/len(df)*100"
   ]
  },
  {
   "cell_type": "code",
   "execution_count": 7,
   "metadata": {
    "collapsed": false
   },
   "outputs": [],
   "source": [
    "from define_column import define_column"
   ]
  },
  {
   "cell_type": "code",
   "execution_count": 8,
   "metadata": {
    "collapsed": false
   },
   "outputs": [
    {
     "name": "stdout",
     "output_type": "stream",
     "text": [
      "The discrete line along which observations are made. \n",
      "\n",
      "In this study this could be any number between zero and infinity, but should be sequential and at regular intervals.\n"
     ]
    },
    {
     "data": {
      "text/plain": [
       "'The discrete line along which observations are made. \\n\\nIn this study this could be any number between zero and infinity, but should be sequential and at regular intervals.'"
      ]
     },
     "execution_count": 8,
     "metadata": {},
     "output_type": "execute_result"
    }
   ],
   "source": [
    "define_column('Transect')"
   ]
  }
 ],
 "metadata": {
  "kernelspec": {
   "display_name": "Python 3",
   "language": "python",
   "name": "python3"
  },
  "language_info": {
   "codemirror_mode": {
    "name": "ipython",
    "version": 3
   },
   "file_extension": ".py",
   "mimetype": "text/x-python",
   "name": "python",
   "nbconvert_exporter": "python",
   "pygments_lexer": "ipython3",
   "version": "3.4.3"
  }
 },
 "nbformat": 4,
 "nbformat_minor": 0
}
